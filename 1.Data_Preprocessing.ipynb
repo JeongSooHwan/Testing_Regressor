{
 "cells": [
  {
   "cell_type": "code",
   "execution_count": 1,
   "metadata": {},
   "outputs": [],
   "source": [
    "import pandas as pd\n",
    "import numpy as np"
   ]
  },
  {
   "cell_type": "markdown",
   "metadata": {},
   "source": [
    "## Read csv data"
   ]
  },
  {
   "cell_type": "code",
   "execution_count": 2,
   "metadata": {},
   "outputs": [],
   "source": [
    "Na2SO4_10g = pd.read_csv(\"./data/Na2SO4_10g.csv\")\n",
    "Na2SO4_30g = pd.read_csv(\"./data/Na2SO4_30g.csv\")\n",
    "Na2SO4_50g = pd.read_csv(\"./data/Na2SO4_50g.csv\")\n",
    "del Na2SO4_10g[\"Unnamed: 0\"]\n",
    "del Na2SO4_30g[\"Unnamed: 0\"]\n",
    "del Na2SO4_50g[\"Unnamed: 0\"]"
   ]
  },
  {
   "cell_type": "markdown",
   "metadata": {},
   "source": [
    "## Add attribute(Na2SO4)"
   ]
  },
  {
   "cell_type": "code",
   "execution_count": 3,
   "metadata": {},
   "outputs": [],
   "source": [
    "Na2SO4_10g[\"Na2SO4\"]=10\n",
    "Na2SO4_30g[\"Na2SO4\"]=30\n",
    "Na2SO4_50g[\"Na2SO4\"]=50"
   ]
  },
  {
   "cell_type": "code",
   "execution_count": 4,
   "metadata": {
    "scrolled": true
   },
   "outputs": [
    {
     "data": {
      "text/html": [
       "<div>\n",
       "<style scoped>\n",
       "    .dataframe tbody tr th:only-of-type {\n",
       "        vertical-align: middle;\n",
       "    }\n",
       "\n",
       "    .dataframe tbody tr th {\n",
       "        vertical-align: top;\n",
       "    }\n",
       "\n",
       "    .dataframe thead th {\n",
       "        text-align: right;\n",
       "    }\n",
       "</style>\n",
       "<table border=\"1\" class=\"dataframe\">\n",
       "  <thead>\n",
       "    <tr style=\"text-align: right;\">\n",
       "      <th></th>\n",
       "      <th>time</th>\n",
       "      <th>degree</th>\n",
       "      <th>20</th>\n",
       "      <th>15</th>\n",
       "      <th>10</th>\n",
       "      <th>5</th>\n",
       "      <th>0</th>\n",
       "      <th>Na2SO4</th>\n",
       "    </tr>\n",
       "  </thead>\n",
       "  <tbody>\n",
       "    <tr>\n",
       "      <th>0</th>\n",
       "      <td>0</td>\n",
       "      <td>30</td>\n",
       "      <td>0.000</td>\n",
       "      <td>0.000</td>\n",
       "      <td>0.000</td>\n",
       "      <td>0.000</td>\n",
       "      <td>0.000</td>\n",
       "      <td>10</td>\n",
       "    </tr>\n",
       "    <tr>\n",
       "      <th>1</th>\n",
       "      <td>3</td>\n",
       "      <td>30</td>\n",
       "      <td>0.208</td>\n",
       "      <td>0.196</td>\n",
       "      <td>0.205</td>\n",
       "      <td>0.196</td>\n",
       "      <td>0.201</td>\n",
       "      <td>10</td>\n",
       "    </tr>\n",
       "    <tr>\n",
       "      <th>2</th>\n",
       "      <td>6</td>\n",
       "      <td>30</td>\n",
       "      <td>0.316</td>\n",
       "      <td>0.307</td>\n",
       "      <td>0.313</td>\n",
       "      <td>0.307</td>\n",
       "      <td>0.311</td>\n",
       "      <td>10</td>\n",
       "    </tr>\n",
       "    <tr>\n",
       "      <th>3</th>\n",
       "      <td>9</td>\n",
       "      <td>30</td>\n",
       "      <td>0.368</td>\n",
       "      <td>0.361</td>\n",
       "      <td>0.366</td>\n",
       "      <td>0.360</td>\n",
       "      <td>0.364</td>\n",
       "      <td>10</td>\n",
       "    </tr>\n",
       "    <tr>\n",
       "      <th>4</th>\n",
       "      <td>12</td>\n",
       "      <td>30</td>\n",
       "      <td>0.400</td>\n",
       "      <td>0.394</td>\n",
       "      <td>0.398</td>\n",
       "      <td>0.394</td>\n",
       "      <td>0.397</td>\n",
       "      <td>10</td>\n",
       "    </tr>\n",
       "  </tbody>\n",
       "</table>\n",
       "</div>"
      ],
      "text/plain": [
       "   time  degree     20     15     10      5      0  Na2SO4\n",
       "0     0      30  0.000  0.000  0.000  0.000  0.000      10\n",
       "1     3      30  0.208  0.196  0.205  0.196  0.201      10\n",
       "2     6      30  0.316  0.307  0.313  0.307  0.311      10\n",
       "3     9      30  0.368  0.361  0.366  0.360  0.364      10\n",
       "4    12      30  0.400  0.394  0.398  0.394  0.397      10"
      ]
     },
     "execution_count": 4,
     "metadata": {},
     "output_type": "execute_result"
    }
   ],
   "source": [
    "Na2SO4_10g.head()"
   ]
  },
  {
   "cell_type": "code",
   "execution_count": 5,
   "metadata": {},
   "outputs": [
    {
     "data": {
      "text/html": [
       "<div>\n",
       "<style scoped>\n",
       "    .dataframe tbody tr th:only-of-type {\n",
       "        vertical-align: middle;\n",
       "    }\n",
       "\n",
       "    .dataframe tbody tr th {\n",
       "        vertical-align: top;\n",
       "    }\n",
       "\n",
       "    .dataframe thead th {\n",
       "        text-align: right;\n",
       "    }\n",
       "</style>\n",
       "<table border=\"1\" class=\"dataframe\">\n",
       "  <thead>\n",
       "    <tr style=\"text-align: right;\">\n",
       "      <th></th>\n",
       "      <th>time</th>\n",
       "      <th>degree</th>\n",
       "      <th>20</th>\n",
       "      <th>15</th>\n",
       "      <th>10</th>\n",
       "      <th>5</th>\n",
       "      <th>0</th>\n",
       "      <th>Na2SO4</th>\n",
       "    </tr>\n",
       "  </thead>\n",
       "  <tbody>\n",
       "    <tr>\n",
       "      <th>0</th>\n",
       "      <td>0</td>\n",
       "      <td>30.0</td>\n",
       "      <td>0.000</td>\n",
       "      <td>0.000</td>\n",
       "      <td>0.000</td>\n",
       "      <td>0.000</td>\n",
       "      <td>0.000</td>\n",
       "      <td>30</td>\n",
       "    </tr>\n",
       "    <tr>\n",
       "      <th>1</th>\n",
       "      <td>3</td>\n",
       "      <td>30.0</td>\n",
       "      <td>0.289</td>\n",
       "      <td>0.235</td>\n",
       "      <td>0.295</td>\n",
       "      <td>0.295</td>\n",
       "      <td>0.279</td>\n",
       "      <td>30</td>\n",
       "    </tr>\n",
       "    <tr>\n",
       "      <th>2</th>\n",
       "      <td>6</td>\n",
       "      <td>30.0</td>\n",
       "      <td>0.438</td>\n",
       "      <td>0.391</td>\n",
       "      <td>0.445</td>\n",
       "      <td>0.446</td>\n",
       "      <td>0.430</td>\n",
       "      <td>30</td>\n",
       "    </tr>\n",
       "    <tr>\n",
       "      <th>3</th>\n",
       "      <td>9</td>\n",
       "      <td>30.0</td>\n",
       "      <td>0.512</td>\n",
       "      <td>0.475</td>\n",
       "      <td>0.518</td>\n",
       "      <td>0.519</td>\n",
       "      <td>0.506</td>\n",
       "      <td>30</td>\n",
       "    </tr>\n",
       "    <tr>\n",
       "      <th>4</th>\n",
       "      <td>12</td>\n",
       "      <td>30.0</td>\n",
       "      <td>0.556</td>\n",
       "      <td>0.527</td>\n",
       "      <td>0.562</td>\n",
       "      <td>0.562</td>\n",
       "      <td>0.552</td>\n",
       "      <td>30</td>\n",
       "    </tr>\n",
       "  </tbody>\n",
       "</table>\n",
       "</div>"
      ],
      "text/plain": [
       "   time  degree     20     15     10      5      0  Na2SO4\n",
       "0     0    30.0  0.000  0.000  0.000  0.000  0.000      30\n",
       "1     3    30.0  0.289  0.235  0.295  0.295  0.279      30\n",
       "2     6    30.0  0.438  0.391  0.445  0.446  0.430      30\n",
       "3     9    30.0  0.512  0.475  0.518  0.519  0.506      30\n",
       "4    12    30.0  0.556  0.527  0.562  0.562  0.552      30"
      ]
     },
     "execution_count": 5,
     "metadata": {},
     "output_type": "execute_result"
    }
   ],
   "source": [
    "Na2SO4_30g.head()"
   ]
  },
  {
   "cell_type": "code",
   "execution_count": 6,
   "metadata": {},
   "outputs": [
    {
     "data": {
      "text/html": [
       "<div>\n",
       "<style scoped>\n",
       "    .dataframe tbody tr th:only-of-type {\n",
       "        vertical-align: middle;\n",
       "    }\n",
       "\n",
       "    .dataframe tbody tr th {\n",
       "        vertical-align: top;\n",
       "    }\n",
       "\n",
       "    .dataframe thead th {\n",
       "        text-align: right;\n",
       "    }\n",
       "</style>\n",
       "<table border=\"1\" class=\"dataframe\">\n",
       "  <thead>\n",
       "    <tr style=\"text-align: right;\">\n",
       "      <th></th>\n",
       "      <th>time</th>\n",
       "      <th>degree</th>\n",
       "      <th>20</th>\n",
       "      <th>15</th>\n",
       "      <th>10</th>\n",
       "      <th>5</th>\n",
       "      <th>0</th>\n",
       "      <th>Na2SO4</th>\n",
       "    </tr>\n",
       "  </thead>\n",
       "  <tbody>\n",
       "    <tr>\n",
       "      <th>0</th>\n",
       "      <td>0</td>\n",
       "      <td>30.0</td>\n",
       "      <td>0.000</td>\n",
       "      <td>0.000</td>\n",
       "      <td>0.000</td>\n",
       "      <td>0.000</td>\n",
       "      <td>0.000</td>\n",
       "      <td>50</td>\n",
       "    </tr>\n",
       "    <tr>\n",
       "      <th>1</th>\n",
       "      <td>3</td>\n",
       "      <td>30.0</td>\n",
       "      <td>0.361</td>\n",
       "      <td>0.328</td>\n",
       "      <td>0.306</td>\n",
       "      <td>0.318</td>\n",
       "      <td>0.328</td>\n",
       "      <td>50</td>\n",
       "    </tr>\n",
       "    <tr>\n",
       "      <th>2</th>\n",
       "      <td>6</td>\n",
       "      <td>30.0</td>\n",
       "      <td>0.527</td>\n",
       "      <td>0.506</td>\n",
       "      <td>0.488</td>\n",
       "      <td>0.494</td>\n",
       "      <td>0.504</td>\n",
       "      <td>50</td>\n",
       "    </tr>\n",
       "    <tr>\n",
       "      <th>3</th>\n",
       "      <td>9</td>\n",
       "      <td>30.0</td>\n",
       "      <td>0.603</td>\n",
       "      <td>0.587</td>\n",
       "      <td>0.574</td>\n",
       "      <td>0.578</td>\n",
       "      <td>0.586</td>\n",
       "      <td>50</td>\n",
       "    </tr>\n",
       "    <tr>\n",
       "      <th>4</th>\n",
       "      <td>12</td>\n",
       "      <td>30.0</td>\n",
       "      <td>0.647</td>\n",
       "      <td>0.634</td>\n",
       "      <td>0.625</td>\n",
       "      <td>0.628</td>\n",
       "      <td>0.634</td>\n",
       "      <td>50</td>\n",
       "    </tr>\n",
       "  </tbody>\n",
       "</table>\n",
       "</div>"
      ],
      "text/plain": [
       "   time  degree     20     15     10      5      0  Na2SO4\n",
       "0     0    30.0  0.000  0.000  0.000  0.000  0.000      50\n",
       "1     3    30.0  0.361  0.328  0.306  0.318  0.328      50\n",
       "2     6    30.0  0.527  0.506  0.488  0.494  0.504      50\n",
       "3     9    30.0  0.603  0.587  0.574  0.578  0.586      50\n",
       "4    12    30.0  0.647  0.634  0.625  0.628  0.634      50"
      ]
     },
     "execution_count": 6,
     "metadata": {},
     "output_type": "execute_result"
    }
   ],
   "source": [
    "Na2SO4_50g.head()"
   ]
  },
  {
   "cell_type": "markdown",
   "metadata": {},
   "source": [
    "## Concatenate data"
   ]
  },
  {
   "cell_type": "code",
   "execution_count": 7,
   "metadata": {},
   "outputs": [],
   "source": [
    "df = pd.concat([Na2SO4_10g, Na2SO4_30g, Na2SO4_50g])"
   ]
  },
  {
   "cell_type": "code",
   "execution_count": 8,
   "metadata": {},
   "outputs": [],
   "source": [
    "df_list = df.to_numpy()\n",
    "df_list = list(df_list)"
   ]
  },
  {
   "cell_type": "markdown",
   "metadata": {},
   "source": [
    "## Preprocess"
   ]
  },
  {
   "cell_type": "code",
   "execution_count": 9,
   "metadata": {},
   "outputs": [],
   "source": [
    "def makeDataList(array):\n",
    "    new_array = list()\n",
    "    for i in range(len(array)):\n",
    "        for j in range(5):\n",
    "            if j == 0:\n",
    "                new_array.append([array[i][0],array[i][1],array[i][-1], 0, array[i][6]])\n",
    "            elif j == 1:\n",
    "                new_array.append([array[i][0],array[i][1],array[i][-1], 5, array[i][5]])\n",
    "            elif j == 2:\n",
    "                new_array.append([array[i][0],array[i][1],array[i][-1], 10, array[i][4]])\n",
    "            elif j == 3:\n",
    "                new_array.append([array[i][0],array[i][1],array[i][-1], 15, array[i][3]])\n",
    "            elif j == 4:\n",
    "                new_array.append([array[i][0],array[i][1],array[i][-1], 20, array[i][2]])\n",
    "    \n",
    "    return new_array"
   ]
  },
  {
   "cell_type": "code",
   "execution_count": 10,
   "metadata": {},
   "outputs": [],
   "source": [
    "new_df_list = makeDataList(df_list)"
   ]
  },
  {
   "cell_type": "code",
   "execution_count": 11,
   "metadata": {},
   "outputs": [
    {
     "data": {
      "text/plain": [
       "[[0.0, 30.0, 10.0, 0, 0.0],\n",
       " [0.0, 30.0, 10.0, 5, 0.0],\n",
       " [0.0, 30.0, 10.0, 10, 0.0],\n",
       " [0.0, 30.0, 10.0, 15, 0.0],\n",
       " [0.0, 30.0, 10.0, 20, 0.0]]"
      ]
     },
     "execution_count": 11,
     "metadata": {},
     "output_type": "execute_result"
    }
   ],
   "source": [
    "new_df_list[:5]"
   ]
  },
  {
   "cell_type": "code",
   "execution_count": 12,
   "metadata": {},
   "outputs": [],
   "source": [
    "column_names = [\"time\", \"temperature\", \"Na2SO4\", \"Na2CO3\", \"target\"]"
   ]
  },
  {
   "cell_type": "code",
   "execution_count": 13,
   "metadata": {},
   "outputs": [],
   "source": [
    "data_df = pd.DataFrame(new_df_list, columns=column_names)"
   ]
  },
  {
   "cell_type": "code",
   "execution_count": 14,
   "metadata": {},
   "outputs": [
    {
     "data": {
      "text/html": [
       "<div>\n",
       "<style scoped>\n",
       "    .dataframe tbody tr th:only-of-type {\n",
       "        vertical-align: middle;\n",
       "    }\n",
       "\n",
       "    .dataframe tbody tr th {\n",
       "        vertical-align: top;\n",
       "    }\n",
       "\n",
       "    .dataframe thead th {\n",
       "        text-align: right;\n",
       "    }\n",
       "</style>\n",
       "<table border=\"1\" class=\"dataframe\">\n",
       "  <thead>\n",
       "    <tr style=\"text-align: right;\">\n",
       "      <th></th>\n",
       "      <th>time</th>\n",
       "      <th>temperature</th>\n",
       "      <th>Na2SO4</th>\n",
       "      <th>Na2CO3</th>\n",
       "      <th>target</th>\n",
       "    </tr>\n",
       "  </thead>\n",
       "  <tbody>\n",
       "    <tr>\n",
       "      <th>0</th>\n",
       "      <td>0.0</td>\n",
       "      <td>30.0</td>\n",
       "      <td>10.0</td>\n",
       "      <td>0</td>\n",
       "      <td>0.0</td>\n",
       "    </tr>\n",
       "    <tr>\n",
       "      <th>1</th>\n",
       "      <td>0.0</td>\n",
       "      <td>30.0</td>\n",
       "      <td>10.0</td>\n",
       "      <td>5</td>\n",
       "      <td>0.0</td>\n",
       "    </tr>\n",
       "    <tr>\n",
       "      <th>2</th>\n",
       "      <td>0.0</td>\n",
       "      <td>30.0</td>\n",
       "      <td>10.0</td>\n",
       "      <td>10</td>\n",
       "      <td>0.0</td>\n",
       "    </tr>\n",
       "    <tr>\n",
       "      <th>3</th>\n",
       "      <td>0.0</td>\n",
       "      <td>30.0</td>\n",
       "      <td>10.0</td>\n",
       "      <td>15</td>\n",
       "      <td>0.0</td>\n",
       "    </tr>\n",
       "    <tr>\n",
       "      <th>4</th>\n",
       "      <td>0.0</td>\n",
       "      <td>30.0</td>\n",
       "      <td>10.0</td>\n",
       "      <td>20</td>\n",
       "      <td>0.0</td>\n",
       "    </tr>\n",
       "  </tbody>\n",
       "</table>\n",
       "</div>"
      ],
      "text/plain": [
       "   time  temperature  Na2SO4  Na2CO3  target\n",
       "0   0.0         30.0    10.0       0     0.0\n",
       "1   0.0         30.0    10.0       5     0.0\n",
       "2   0.0         30.0    10.0      10     0.0\n",
       "3   0.0         30.0    10.0      15     0.0\n",
       "4   0.0         30.0    10.0      20     0.0"
      ]
     },
     "execution_count": 14,
     "metadata": {},
     "output_type": "execute_result"
    }
   ],
   "source": [
    "data_df.head()"
   ]
  },
  {
   "cell_type": "markdown",
   "metadata": {},
   "source": [
    "## Save final data"
   ]
  },
  {
   "cell_type": "code",
   "execution_count": 15,
   "metadata": {},
   "outputs": [],
   "source": [
    "data_df.to_csv(\"./data/preprocessing_data.csv\")"
   ]
  }
 ],
 "metadata": {
  "kernelspec": {
   "display_name": "Python 3",
   "language": "python",
   "name": "python3"
  },
  "language_info": {
   "codemirror_mode": {
    "name": "ipython",
    "version": 3
   },
   "file_extension": ".py",
   "mimetype": "text/x-python",
   "name": "python",
   "nbconvert_exporter": "python",
   "pygments_lexer": "ipython3",
   "version": "3.8.3"
  }
 },
 "nbformat": 4,
 "nbformat_minor": 4
}
