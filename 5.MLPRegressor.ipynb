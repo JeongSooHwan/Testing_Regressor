{
 "cells": [
  {
   "cell_type": "code",
   "execution_count": 1,
   "metadata": {},
   "outputs": [],
   "source": [
    "import pandas as pd\n",
    "import numpy as np\n",
    "import random\n",
    "from sklearn.model_selection import train_test_split\n",
    "from sklearn.neural_network import MLPRegressor\n",
    "from sklearn import metrics\n",
    "import matplotlib.pyplot as plt\n",
    "%matplotlib inline"
   ]
  },
  {
   "cell_type": "markdown",
   "metadata": {},
   "source": [
    "## Read data"
   ]
  },
  {
   "cell_type": "code",
   "execution_count": 2,
   "metadata": {},
   "outputs": [],
   "source": [
    "df = pd.read_csv(\"./data/preprocessing_data.csv\")\n",
    "del df[\"Unnamed: 0\"]"
   ]
  },
  {
   "cell_type": "markdown",
   "metadata": {},
   "source": [
    "## Shuffle data"
   ]
  },
  {
   "cell_type": "code",
   "execution_count": 3,
   "metadata": {},
   "outputs": [],
   "source": [
    "np_array = df.to_numpy()\n",
    "np.random.shuffle(np_array)"
   ]
  },
  {
   "cell_type": "code",
   "execution_count": 4,
   "metadata": {},
   "outputs": [
    {
     "data": {
      "text/plain": [
       "array([[48.   , 53.   , 10.   ,  5.   ,  0.634],\n",
       "       [51.   , 56.   , 50.   , 15.   ,  0.915],\n",
       "       [60.   , 60.   , 30.   ,  5.   ,  0.852],\n",
       "       ...,\n",
       "       [93.   , 60.   , 50.   ,  0.   ,  0.684],\n",
       "       [45.   , 50.   , 30.   , 15.   ,  0.833],\n",
       "       [93.   , 60.   , 10.   , 20.   ,  0.904]])"
      ]
     },
     "execution_count": 4,
     "metadata": {},
     "output_type": "execute_result"
    }
   ],
   "source": [
    "np_array"
   ]
  },
  {
   "cell_type": "code",
   "execution_count": 5,
   "metadata": {},
   "outputs": [],
   "source": [
    "X = np_array[:,:-1]\n",
    "y = np_array[:,-1]"
   ]
  },
  {
   "cell_type": "markdown",
   "metadata": {},
   "source": [
    "## Split data (Train : Test)"
   ]
  },
  {
   "cell_type": "code",
   "execution_count": 6,
   "metadata": {},
   "outputs": [],
   "source": [
    "train_X, test_X, train_y, test_y = train_test_split(X,y,test_size=0.33, random_state=42)"
   ]
  },
  {
   "cell_type": "code",
   "execution_count": 7,
   "metadata": {},
   "outputs": [
    {
     "name": "stdout",
     "output_type": "stream",
     "text": [
      "train_X shape : (412, 4)\n",
      "test_X shape : (203, 4)\n",
      "train_y shape : (412,)\n",
      "test_y shape : (203,)\n"
     ]
    }
   ],
   "source": [
    "print(\"train_X shape :\",train_X.shape)\n",
    "print(\"test_X shape :\",test_X.shape)\n",
    "print(\"train_y shape :\",train_y.shape)\n",
    "print(\"test_y shape :\",test_y.shape)"
   ]
  },
  {
   "cell_type": "code",
   "execution_count": 8,
   "metadata": {},
   "outputs": [],
   "source": [
    "mlp_regr = MLPRegressor(hidden_layer_sizes=(200,200),activation='logistic',solver='adam',random_state=42,max_iter=500).fit(train_X, train_y)"
   ]
  },
  {
   "cell_type": "code",
   "execution_count": 9,
   "metadata": {},
   "outputs": [
    {
     "name": "stdout",
     "output_type": "stream",
     "text": [
      "RMSE:  0.04889541323197481\n",
      "R2: 0.9538156020676561\n"
     ]
    }
   ],
   "source": [
    "lr_pred_mlp = mlp_regr.predict(X=test_X)\n",
    "print(\"RMSE: \", np.sqrt(metrics.mean_squared_error(lr_pred_mlp, test_y)))\n",
    "print(\"R2:\", metrics.r2_score(test_y, lr_pred_mlp))"
   ]
  },
  {
   "cell_type": "code",
   "execution_count": 10,
   "metadata": {},
   "outputs": [
    {
     "data": {
      "text/plain": [
       "0.9538156020676561"
      ]
     },
     "execution_count": 10,
     "metadata": {},
     "output_type": "execute_result"
    }
   ],
   "source": [
    "mlp_regr.score(test_X,test_y)"
   ]
  },
  {
   "cell_type": "code",
   "execution_count": 11,
   "metadata": {
    "scrolled": true
   },
   "outputs": [
    {
     "data": {
      "text/plain": [
       "array([0.65222206, 0.90251735, 0.03449163, 0.85348638, 0.85132114,\n",
       "       0.84085549, 0.34025611, 0.78231646, 0.50105654, 0.95650198,\n",
       "       0.84685778, 0.88436977, 0.68496989, 0.76614696, 0.83339375,\n",
       "       0.83803321, 0.61325971, 0.23218993, 0.77051952, 0.81922594])"
      ]
     },
     "execution_count": 11,
     "metadata": {},
     "output_type": "execute_result"
    }
   ],
   "source": [
    "lr_pred_mlp[:20]"
   ]
  },
  {
   "cell_type": "code",
   "execution_count": 12,
   "metadata": {},
   "outputs": [
    {
     "data": {
      "text/plain": [
       "array([0.721, 0.913, 0.   , 0.859, 0.86 , 0.849, 0.361, 0.852, 0.434,\n",
       "       0.946, 0.861, 0.89 , 0.737, 0.832, 0.828, 0.913, 0.664, 0.316,\n",
       "       0.684, 0.916])"
      ]
     },
     "execution_count": 12,
     "metadata": {},
     "output_type": "execute_result"
    }
   ],
   "source": [
    "test_y[:20]"
   ]
  },
  {
   "cell_type": "markdown",
   "metadata": {},
   "source": [
    "### x-axis : Real <------> y-axis : predict"
   ]
  },
  {
   "cell_type": "code",
   "execution_count": 13,
   "metadata": {},
   "outputs": [
    {
     "data": {
      "image/png": "[encoded data removed]",
      "text/plain": [
       "<Figure size 432x288 with 1 Axes>"
      ]
     },
     "metadata": {
      "needs_background": "light"
     },
     "output_type": "display_data"
    }
   ],
   "source": [
    "plt.scatter(x=test_y, y=lr_pred_mlp)\n",
    "plt.plot([0,1],[0,1], color='r')\n",
    "plt.show()"
   ]
  },
  {
   "cell_type": "code",
   "execution_count": null,
   "metadata": {},
   "outputs": [],
   "source": []
  }
 ],
 "metadata": {
  "kernelspec": {
   "display_name": "Python 3",
   "language": "python",
   "name": "python3"
  },
  "language_info": {
   "codemirror_mode": {
    "name": "ipython",
    "version": 3
   },
   "file_extension": ".py",
   "mimetype": "text/x-python",
   "name": "python",
   "nbconvert_exporter": "python",
   "pygments_lexer": "ipython3",
   "version": "3.8.3"
  }
 },
 "nbformat": 4,
 "nbformat_minor": 4
}
